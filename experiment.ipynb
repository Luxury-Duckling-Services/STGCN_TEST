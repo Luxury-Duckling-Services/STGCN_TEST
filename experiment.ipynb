{
 "cells": [
  {
   "cell_type": "code",
   "execution_count": 20,
   "id": "858c41b1-bb8f-495b-bd4c-e688c1698eb9",
   "metadata": {},
   "outputs": [
    {
     "name": "stdout",
     "output_type": "stream",
     "text": [
      "Training configs: Namespace(Ks=3, Kt=3, act_func='glu', batch_size=32, dataset='metr-la', droprate=0.5, enable_bias=True, enable_cuda=True, epochs=2, gamma=0.95, graph_conv_type='cheb_graph_conv', gso_type='sym_norm_lap', lr=0.001, middle_layer=False, n_his=12, n_pred=3, opt='adam', patience=30, seed=42, stblock_num=2, step_size=10, time_intvl=5, weight_decay_rate=0.0005)\n",
      "Blocks:  [[1], [64, 16, 64], [64, 16, 64], [128, 128], [1]]\n",
      "/home/wuyifan/anaconda3/envs/STGCN/lib/python3.8/site-packages/scipy/sparse/linalg/_eigen/_svds.py:491: UserWarning: Exited at iteration 20 with accuracies \n",
      "[0.00822724]\n",
      "not reaching the requested tolerance 3.084540367126465e-06.\n",
      "Use iteration 19 instead with accuracy \n",
      "0.007941234546600588.\n",
      "\n",
      "  _, eigvec = lobpcg(XH_X, X, tol=tol ** 2, maxiter=maxiter,\n",
      "/home/wuyifan/anaconda3/envs/STGCN/lib/python3.8/site-packages/scipy/sparse/linalg/_eigen/_svds.py:491: UserWarning: Exited postprocessing with accuracies \n",
      "[0.00794123]\n",
      "not reaching the requested tolerance 3.084540367126465e-06.\n",
      "  _, eigvec = lobpcg(XH_X, X, tol=tol ** 2, maxiter=maxiter,\n",
      "Modules:  [STConvBlock(\n",
      "  (tmp_conv1): TemporalConvLayer(\n",
      "    (align): Align(\n",
      "      (align_conv): Conv2d(1, 64, kernel_size=(1, 1), stride=(1, 1))\n",
      "    )\n",
      "    (causal_conv): CausalConv2d(1, 128, kernel_size=(3, 1), stride=(1, 1))\n",
      "    (relu): ReLU()\n",
      "    (silu): SiLU()\n",
      "  )\n",
      "  (graph_conv): GraphConvLayer(\n",
      "    (align): Align(\n",
      "      (align_conv): Conv2d(64, 16, kernel_size=(1, 1), stride=(1, 1))\n",
      "    )\n",
      "    (cheb_graph_conv): ChebGraphConv()\n",
      "  )\n",
      "  (tmp_conv2): TemporalConvLayer(\n",
      "    (align): Align(\n",
      "      (align_conv): Conv2d(16, 64, kernel_size=(1, 1), stride=(1, 1))\n",
      "    )\n",
      "    (causal_conv): CausalConv2d(16, 128, kernel_size=(3, 1), stride=(1, 1))\n",
      "    (relu): ReLU()\n",
      "    (silu): SiLU()\n",
      "  )\n",
      "  (tc2_ln): LayerNorm((207, 64), eps=1e-05, elementwise_affine=True)\n",
      "  (relu): ReLU()\n",
      "  (dropout): Dropout(p=0.5, inplace=False)\n",
      "), STConvBlock(\n",
      "  (tmp_conv1): TemporalConvLayer(\n",
      "    (align): Align(\n",
      "      (align_conv): Conv2d(64, 64, kernel_size=(1, 1), stride=(1, 1))\n",
      "    )\n",
      "    (causal_conv): CausalConv2d(64, 128, kernel_size=(3, 1), stride=(1, 1))\n",
      "    (relu): ReLU()\n",
      "    (silu): SiLU()\n",
      "  )\n",
      "  (graph_conv): GraphConvLayer(\n",
      "    (align): Align(\n",
      "      (align_conv): Conv2d(64, 16, kernel_size=(1, 1), stride=(1, 1))\n",
      "    )\n",
      "    (cheb_graph_conv): ChebGraphConv()\n",
      "  )\n",
      "  (tmp_conv2): TemporalConvLayer(\n",
      "    (align): Align(\n",
      "      (align_conv): Conv2d(16, 64, kernel_size=(1, 1), stride=(1, 1))\n",
      "    )\n",
      "    (causal_conv): CausalConv2d(16, 128, kernel_size=(3, 1), stride=(1, 1))\n",
      "    (relu): ReLU()\n",
      "    (silu): SiLU()\n",
      "  )\n",
      "  (tc2_ln): LayerNorm((207, 64), eps=1e-05, elementwise_affine=True)\n",
      "  (relu): ReLU()\n",
      "  (dropout): Dropout(p=0.5, inplace=False)\n",
      ")]\n",
      "100%|█████████████████████████████████████████| 750/750 [00:23<00:00, 31.36it/s]\n",
      "Epoch: 001 | Lr: 0.00100000000000000002 |Train loss: 0.354609 | Val loss: 0.423299 | GPU occupy: 610.686976 MiB\n",
      "100%|█████████████████████████████████████████| 750/750 [00:25<00:00, 29.77it/s]\n",
      "Epoch: 002 | Lr: 0.00100000000000000002 |Train loss: 0.283152 | Val loss: 0.359180 | GPU occupy: 610.686976 MiB\n",
      "Dataset metr-la | Test loss 0.411808 | MAE 6.704089 | RMSE 11.556078 | WMAPE 0.13197321\n"
     ]
    }
   ],
   "source": [
    "# default\n",
    "\n",
    "!python main.py --epoch=2"
   ]
  },
  {
   "cell_type": "code",
   "execution_count": 17,
   "id": "0ff48eb2-86b3-4837-805b-78feba4e25cb",
   "metadata": {},
   "outputs": [
    {
     "name": "stdout",
     "output_type": "stream",
     "text": [
      "Training configs: Namespace(Ks=2, Kt=2, act_func='glu', batch_size=32, dataset='metr-la', droprate=0.5, enable_bias=True, enable_cuda=True, epochs=2, gamma=0.95, graph_conv_type='cheb_graph_conv', gso_type='sym_norm_lap', lr=0.001, middle_layer=True, n_his=12, n_pred=3, opt='adam', patience=30, seed=42, stblock_num=1, step_size=10, time_intvl=5, weight_decay_rate=0.0005)\n",
      "Blocks:  [[1], [64, 16, 64], [128, 128], [1]]\n",
      "/home/wuyifan/anaconda3/envs/STGCN/lib/python3.8/site-packages/scipy/sparse/linalg/_eigen/_svds.py:491: UserWarning: Exited at iteration 20 with accuracies \n",
      "[0.00822724]\n",
      "not reaching the requested tolerance 3.084540367126465e-06.\n",
      "Use iteration 19 instead with accuracy \n",
      "0.007941234546600588.\n",
      "\n",
      "  _, eigvec = lobpcg(XH_X, X, tol=tol ** 2, maxiter=maxiter,\n",
      "/home/wuyifan/anaconda3/envs/STGCN/lib/python3.8/site-packages/scipy/sparse/linalg/_eigen/_svds.py:491: UserWarning: Exited postprocessing with accuracies \n",
      "[0.00794123]\n",
      "not reaching the requested tolerance 3.084540367126465e-06.\n",
      "  _, eigvec = lobpcg(XH_X, X, tol=tol ** 2, maxiter=maxiter,\n",
      "Modules:  [STConvBlock(\n",
      "  (tmp_conv1): TemporalConvLayer(\n",
      "    (align): Align(\n",
      "      (align_conv): Conv2d(1, 64, kernel_size=(1, 1), stride=(1, 1))\n",
      "    )\n",
      "    (causal_conv): CausalConv2d(1, 128, kernel_size=(2, 1), stride=(1, 1))\n",
      "    (relu): ReLU()\n",
      "    (silu): SiLU()\n",
      "  )\n",
      "  (graph_conv): GraphConvLayer(\n",
      "    (align): Align(\n",
      "      (align_conv): Conv2d(64, 16, kernel_size=(1, 1), stride=(1, 1))\n",
      "    )\n",
      "    (cheb_graph_conv): ChebGraphConv()\n",
      "  )\n",
      "  (tmp_conv2): TemporalConvLayer(\n",
      "    (align): Align(\n",
      "      (align_conv): Conv2d(16, 64, kernel_size=(1, 1), stride=(1, 1))\n",
      "    )\n",
      "    (causal_conv): CausalConv2d(16, 128, kernel_size=(2, 1), stride=(1, 1))\n",
      "    (relu): ReLU()\n",
      "    (silu): SiLU()\n",
      "  )\n",
      "  (tc2_ln): LayerNorm((207, 64), eps=1e-05, elementwise_affine=True)\n",
      "  (relu): ReLU()\n",
      "  (dropout): Dropout(p=0.5, inplace=False)\n",
      ")]\n",
      "100%|█████████████████████████████████████████| 750/750 [00:17<00:00, 42.49it/s]\n",
      "Epoch: 001 | Lr: 0.00100000000000000002 |Train loss: 0.318501 | Val loss: 0.439343 | GPU occupy: 592.738816 MiB\n",
      "100%|█████████████████████████████████████████| 750/750 [00:17<00:00, 42.86it/s]\n",
      "Epoch: 002 | Lr: 0.00100000000000000002 |Train loss: 0.294777 | Val loss: 0.345944 | GPU occupy: 592.738816 MiB\n",
      "Dataset metr-la | Test loss 0.390672 | MAE 6.934874 | RMSE 11.341281 | WMAPE 0.13651631\n"
     ]
    }
   ],
   "source": [
    "#1: 0 middle layer + first order\n",
    "\n",
    "!python main.py --stblock_num=1 --Kt=2 --Ks=2 --middle_layer=True"
   ]
  },
  {
   "cell_type": "code",
   "execution_count": 18,
   "id": "d20bd689-7afe-4c43-a290-f84382f86141",
   "metadata": {},
   "outputs": [
    {
     "name": "stdout",
     "output_type": "stream",
     "text": [
      "Training configs: Namespace(Ks=3, Kt=2, act_func='glu', batch_size=32, dataset='metr-la', droprate=0.5, enable_bias=True, enable_cuda=True, epochs=50, gamma=0.95, graph_conv_type='cheb_graph_conv', gso_type='sym_norm_lap', lr=0.001, middle_layer=True, n_his=12, n_pred=3, opt='adam', patience=30, seed=42, stblock_num=1, step_size=10, time_intvl=5, weight_decay_rate=0.0005)\n",
      "Blocks:  [[1], [64, 16, 64], [128, 128], [1]]\n",
      "/home/wuyifan/anaconda3/envs/STGCN/lib/python3.8/site-packages/scipy/sparse/linalg/_eigen/_svds.py:491: UserWarning: Exited at iteration 20 with accuracies \n",
      "[0.00822724]\n",
      "not reaching the requested tolerance 3.084540367126465e-06.\n",
      "Use iteration 19 instead with accuracy \n",
      "0.007941234546600588.\n",
      "\n",
      "  _, eigvec = lobpcg(XH_X, X, tol=tol ** 2, maxiter=maxiter,\n",
      "/home/wuyifan/anaconda3/envs/STGCN/lib/python3.8/site-packages/scipy/sparse/linalg/_eigen/_svds.py:491: UserWarning: Exited postprocessing with accuracies \n",
      "[0.00794123]\n",
      "not reaching the requested tolerance 3.084540367126465e-06.\n",
      "  _, eigvec = lobpcg(XH_X, X, tol=tol ** 2, maxiter=maxiter,\n",
      "^C\n",
      "Traceback (most recent call last):\n",
      "  File \"main.py\", line 234, in <module>\n",
      "    n_vertex, zscore, train_iter, val_iter, test_iter = data_preparate(args, device)\n",
      "  File \"main.py\", line 123, in data_preparate\n",
      "    train, val, test = dataloader.load_data(args.dataset, len_train, len_val)\n",
      "  File \"/home/wuyifan/DeepLearningGT/Final Project/STGCN/STGCN_TEST/script/dataloader.py\", line 25, in load_data\n",
      "    vel = pd.read_csv(os.path.join(dataset_path, 'vel.csv'))\n",
      "  File \"/home/wuyifan/anaconda3/envs/STGCN/lib/python3.8/site-packages/pandas/util/_decorators.py\", line 311, in wrapper\n",
      "    return func(*args, **kwargs)\n",
      "  File \"/home/wuyifan/anaconda3/envs/STGCN/lib/python3.8/site-packages/pandas/io/parsers/readers.py\", line 678, in read_csv\n",
      "    return _read(filepath_or_buffer, kwds)\n",
      "  File \"/home/wuyifan/anaconda3/envs/STGCN/lib/python3.8/site-packages/pandas/io/parsers/readers.py\", line 581, in _read\n",
      "    return parser.read(nrows)\n",
      "  File \"/home/wuyifan/anaconda3/envs/STGCN/lib/python3.8/site-packages/pandas/io/parsers/readers.py\", line 1253, in read\n",
      "    index, columns, col_dict = self._engine.read(nrows)\n",
      "  File \"/home/wuyifan/anaconda3/envs/STGCN/lib/python3.8/site-packages/pandas/io/parsers/c_parser_wrapper.py\", line 225, in read\n",
      "    chunks = self._reader.read_low_memory(nrows)\n",
      "  File \"pandas/_libs/parsers.pyx\", line 805, in pandas._libs.parsers.TextReader.read_low_memory\n",
      "  File \"pandas/_libs/parsers.pyx\", line 861, in pandas._libs.parsers.TextReader._read_rows\n",
      "  File \"pandas/_libs/parsers.pyx\", line 847, in pandas._libs.parsers.TextReader._tokenize_rows\n",
      "  File \"pandas/_libs/parsers.pyx\", line 1960, in pandas._libs.parsers.raise_parser_error\n",
      "pandas.errors.ParserError: Error tokenizing data. C error: Calling read(nbytes) on source failed. Try engine='python'.\n"
     ]
    }
   ],
   "source": [
    "#2: 0 middle layer + first order\n",
    "\n",
    "!python main.py --stblock_num=1 --Kt=2 --Ks=3 --middle_layer=True"
   ]
  },
  {
   "cell_type": "code",
   "execution_count": null,
   "id": "e7df41c1-6923-4cf6-93a8-b55f42f5cbf7",
   "metadata": {},
   "outputs": [],
   "source": [
    "#3: 0 middle layer + first order\n",
    "\n",
    "!python main.py --stblock_num=1 --Kt=2 --Ks=4 --middle_layer=True"
   ]
  },
  {
   "cell_type": "code",
   "execution_count": null,
   "id": "b09d3869-6f2b-4502-a590-660e0cbbafa4",
   "metadata": {},
   "outputs": [],
   "source": [
    "#4: 0 middle layer + first order\n",
    "\n",
    "!python main.py --stblock_num=2 --Kt=2 --Ks=2 --middle_layer=True"
   ]
  },
  {
   "cell_type": "code",
   "execution_count": null,
   "id": "3d8dfdda-60a1-4d93-9968-bb428023ecea",
   "metadata": {},
   "outputs": [],
   "source": [
    "#5: 1 middle layer + second order\n",
    "\n",
    "!python main.py --stblock_num=2 --Kt=2 --Ks=3 --middle_layer=True"
   ]
  },
  {
   "cell_type": "code",
   "execution_count": null,
   "id": "90f96ece-7c60-409c-9c39-8a255046ef6d",
   "metadata": {},
   "outputs": [],
   "source": [
    "#6: 1 middle layer + third order\n",
    "\n",
    "!python main.py --stblock_num=2 --Kt=2 --Ks=4 --middle_layer=True"
   ]
  },
  {
   "cell_type": "code",
   "execution_count": null,
   "id": "efc803c1-80a8-4784-8bc0-21d27b17c58c",
   "metadata": {},
   "outputs": [],
   "source": [
    "#7: 2 middle layer + first order\n",
    "\n",
    "!python main.py --stblock_num=3 --Kt=2 --Ks=2 --middle_layer=True"
   ]
  },
  {
   "cell_type": "code",
   "execution_count": null,
   "id": "f4b866c3-e593-432c-9c32-c80942f6c566",
   "metadata": {},
   "outputs": [],
   "source": [
    "#8: 2 middle layer + second order\n",
    "\n",
    "!python main.py --stblock_num=3 --Kt=2 --Ks=3 --middle_layer=True"
   ]
  },
  {
   "cell_type": "code",
   "execution_count": null,
   "id": "9604338f-a506-4b03-9399-4bee00d6440e",
   "metadata": {},
   "outputs": [],
   "source": [
    "#9: 2 middle layer + third order\n",
    "\n",
    "!python main.py --stblock_num=3 --Kt=2 --Ks=4 --middle_layer=True"
   ]
  }
 ],
 "metadata": {
  "kernelspec": {
   "display_name": "Python 3 (ipykernel)",
   "language": "python",
   "name": "python3"
  },
  "language_info": {
   "codemirror_mode": {
    "name": "ipython",
    "version": 3
   },
   "file_extension": ".py",
   "mimetype": "text/x-python",
   "name": "python",
   "nbconvert_exporter": "python",
   "pygments_lexer": "ipython3",
   "version": "3.8.18"
  }
 },
 "nbformat": 4,
 "nbformat_minor": 5
}
